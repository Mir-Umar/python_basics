{
 "cells": [
  {
   "cell_type": "markdown",
   "metadata": {},
   "source": [
    "### In Python, ***args** and ****kwargs** are special syntax used in function definitions to allow a variable number of arguments to be passed to the function. They are often used when you want to create flexible functions that can accept different numbers of positional and keyword arguments."
   ]
  },
  {
   "cell_type": "markdown",
   "metadata": {},
   "source": [
    "#### 1. *args (Arbitrary Positional Arguments):\n",
    "\n",
    "The *args syntax allows a function to accept a variable number of positional arguments.\n",
    "When you use *args in a function definition, it collects any extra positional arguments passed to the function into a tuple.\n",
    "You can use any variable name with the * syntax, but args is a common convention.\n",
    "Here's an example:"
   ]
  },
  {
   "cell_type": "code",
   "execution_count": 28,
   "metadata": {},
   "outputs": [],
   "source": [
    "def print_args(*args):\n",
    "    for arg in args:\n",
    "        print(arg,'\\n\\n*****')"
   ]
  },
  {
   "cell_type": "code",
   "execution_count": 31,
   "metadata": {},
   "outputs": [
    {
     "name": "stdout",
     "output_type": "stream",
     "text": [
      "[5, 1, 2] \n",
      "\n",
      "*****\n"
     ]
    }
   ],
   "source": [
    "print_args([5,1,2])"
   ]
  },
  {
   "cell_type": "markdown",
   "metadata": {},
   "source": [
    "#### 2. **kwargs (Arbitrary Keyword Arguments):\n",
    "\n",
    "The **kwargs syntax allows a function to accept a variable number of keyword arguments.\n",
    "When you use **kwargs in a function definition, it collects any extra keyword arguments passed to the function into a dictionary.\n",
    "You can use any variable name with the ** syntax, but kwargs is a common convention.\n",
    "Here's an example:"
   ]
  },
  {
   "cell_type": "code",
   "execution_count": 32,
   "metadata": {},
   "outputs": [
    {
     "name": "stdout",
     "output_type": "stream",
     "text": [
      "name Alice\n",
      "age 30\n",
      "city New York\n"
     ]
    }
   ],
   "source": [
    "def print_kwargs(**kwargs):\n",
    "    for key, value in kwargs.items():\n",
    "        print(key, value)\n",
    "\n",
    "print_kwargs(name=\"Alice\", age=30, city=\"New York\")"
   ]
  },
  {
   "cell_type": "markdown",
   "metadata": {},
   "source": [
    "#### Combining *args and **kwargs in a function definition allows you to create highly flexible functions that can accept any combination of positional and keyword arguments. Here's an example of a function that uses both:"
   ]
  },
  {
   "cell_type": "code",
   "execution_count": 33,
   "metadata": {},
   "outputs": [
    {
     "name": "stdout",
     "output_type": "stream",
     "text": [
      "arg1: first\n",
      "additional positional arguments: (2, 3, 4)\n",
      "kwarg1: custom_value\n",
      "additional keyword arguments: {'name': 'Alice', 'age': 30}\n"
     ]
    }
   ],
   "source": [
    "def flexible_function(arg1, *args, kwarg1=\"default_value\", **kwargs):\n",
    "    print(\"arg1:\", arg1)\n",
    "    print(\"additional positional arguments:\", args)\n",
    "    print(\"kwarg1:\", kwarg1)\n",
    "    print(\"additional keyword arguments:\", kwargs)\n",
    "\n",
    "# Example usage\n",
    "flexible_function(\"first\", 2, 3, 4, kwarg1=\"custom_value\", name=\"Alice\", age=30)\n"
   ]
  },
  {
   "cell_type": "markdown",
   "metadata": {},
   "source": [
    "#### In this example, arg1 is a required positional argument, *args collects additional positional arguments, kwarg1 is a keyword argument with a default value, and **kwargs collects additional keyword arguments. This allows the function to be very flexible in what it can accept."
   ]
  },
  {
   "cell_type": "code",
   "execution_count": null,
   "metadata": {},
   "outputs": [],
   "source": []
  },
  {
   "cell_type": "code",
   "execution_count": null,
   "metadata": {},
   "outputs": [],
   "source": []
  },
  {
   "cell_type": "code",
   "execution_count": null,
   "metadata": {},
   "outputs": [],
   "source": []
  },
  {
   "cell_type": "code",
   "execution_count": null,
   "metadata": {},
   "outputs": [],
   "source": []
  },
  {
   "cell_type": "code",
   "execution_count": null,
   "metadata": {},
   "outputs": [],
   "source": []
  },
  {
   "cell_type": "code",
   "execution_count": null,
   "metadata": {},
   "outputs": [],
   "source": []
  },
  {
   "cell_type": "code",
   "execution_count": null,
   "metadata": {},
   "outputs": [],
   "source": []
  },
  {
   "cell_type": "code",
   "execution_count": null,
   "metadata": {},
   "outputs": [],
   "source": []
  },
  {
   "cell_type": "code",
   "execution_count": null,
   "metadata": {},
   "outputs": [],
   "source": []
  }
 ],
 "metadata": {
  "kernelspec": {
   "display_name": "Python 3",
   "language": "python",
   "name": "python3"
  },
  "language_info": {
   "codemirror_mode": {
    "name": "ipython",
    "version": 3
   },
   "file_extension": ".py",
   "mimetype": "text/x-python",
   "name": "python",
   "nbconvert_exporter": "python",
   "pygments_lexer": "ipython3",
   "version": "3.8.16"
  },
  "orig_nbformat": 4
 },
 "nbformat": 4,
 "nbformat_minor": 2
}
