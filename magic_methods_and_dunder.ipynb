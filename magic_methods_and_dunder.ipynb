{
 "cells": [
  {
   "cell_type": "markdown",
   "metadata": {},
   "source": [
    "## Magic Methods --- Dunder"
   ]
  },
  {
   "cell_type": "markdown",
   "metadata": {},
   "source": [
    "Dunder methods, short for \"double underscore\" methods, are special methods in Python that have double underscores before and after their names, such as `__init__` or `__str__`. They are also known as \"magic methods\" because they enable the customization of behavior for various built-in operations in Python. Here’s a brief introduction to some commonly used dunder methods:\n",
    "\n",
    "1. **`__init__`**: This is the initializer method, also known as the constructor. It is called when an instance of the class is created.\n",
    "   ```python\n",
    "   class MyClass:\n",
    "       def __init__(self, value):\n",
    "           self.value = value\n",
    "   ```\n",
    "\n",
    "2. **`__str__`**: This method is called by the `str()` function and the `print` statement to return a string representation of an object.\n",
    "   ```python\n",
    "   class MyClass:\n",
    "       def __str__(self):\n",
    "           return f\"MyClass with value: {self.value}\"\n",
    "   ```\n",
    "\n",
    "3. **`__repr__`**: This method is called by the `repr()` function and is used to return an “official” string representation of an object that can ideally be used to recreate the object.\n",
    "   ```python\n",
    "   class MyClass:\n",
    "       def __repr__(self):\n",
    "           return f\"MyClass({self.value})\"\n",
    "   ```\n",
    "\n",
    "4. **`__len__`**: This method is called by the `len()` function to return the length of an object.\n",
    "   ```python\n",
    "   class MyClass:\n",
    "       def __len__(self):\n",
    "           return len(self.value)\n",
    "   ```\n",
    "\n",
    "5. **`__getitem__`, `__setitem__`, `__delitem__`**: These methods are used to get, set, and delete items using indexing.\n",
    "   ```python\n",
    "   class MyClass:\n",
    "       def __getitem__(self, index):\n",
    "           return self.value[index]\n",
    "\n",
    "       def __setitem__(self, index, value):\n",
    "           self.value[index] = value\n",
    "\n",
    "       def __delitem__(self, index):\n",
    "           del self.value[index]\n",
    "   ```\n",
    "\n",
    "6. **`__iter__`** and **`__next__`**: These methods are used to make an object iterable.\n",
    "   ```python\n",
    "   class MyClass:\n",
    "       def __iter__(self):\n",
    "           self.index = 0\n",
    "           return self\n",
    "\n",
    "       def __next__(self):\n",
    "           if self.index < len(self.value):\n",
    "               result = self.value[self.index]\n",
    "               self.index += 1\n",
    "               return result\n",
    "           else:\n",
    "               raise StopIteration\n",
    "   ```\n",
    "\n",
    "7. **`__call__`**: This method allows an instance of a class to be called as a function.\n",
    "   ```python\n",
    "   class MyClass:\n",
    "       def __call__(self, *args, **kwargs):\n",
    "           print(\"Instance called with:\", args, kwargs)\n",
    "   ```\n",
    "\n",
    "8. **Arithmetic Operators**: Methods like `__add__`, `__sub__`, `__mul__`, etc., allow the customization of behavior for arithmetic operations.\n",
    "   ```python\n",
    "   class MyClass:\n",
    "       def __init__(self, value):\n",
    "           self.value = value\n",
    "\n",
    "       def __add__(self, other):\n",
    "           return MyClass(self.value + other.value)\n",
    "   ```\n",
    "\n",
    "These methods provide a way to define the behavior of objects for various built-in Python operations, making classes more powerful and flexible."
   ]
  },
  {
   "cell_type": "code",
   "execution_count": 2,
   "metadata": {},
   "outputs": [],
   "source": [
    "class Person():\n",
    "\n",
    "    def __init__(self,name,age):\n",
    "        self.name = name\n",
    "        self.age = age\n",
    "\n",
    "    "
   ]
  },
  {
   "cell_type": "code",
   "execution_count": 5,
   "metadata": {},
   "outputs": [
    {
     "data": {
      "text/plain": [
       "'Mike'"
      ]
     },
     "execution_count": 5,
     "metadata": {},
     "output_type": "execute_result"
    }
   ],
   "source": [
    "p = Person('Mike',25)\n",
    "p.name"
   ]
  },
  {
   "cell_type": "code",
   "execution_count": 9,
   "metadata": {},
   "outputs": [],
   "source": [
    "class Vector:\n",
    "\n",
    "    # Arguments passed to the class goes here\n",
    "    def __init__(self,x,y) -> None:\n",
    "        self.x = x\n",
    "        self.y = y\n",
    "\n",
    "    # Used to call the addition ('+') method using mathematical quotation\n",
    "    def __add__(self,other):\n",
    "        return Vector(self.x+ other.x, self.y+other.y)\n",
    "    \n",
    "    # Used to print the class methods and attributes\n",
    "    def __repr__(self) -> str:\n",
    "        return f\"X:{self.x}, Y:{self.y}\"\n",
    "\n",
    "    # def __len__(self):\n",
    "    #     return "
   ]
  },
  {
   "cell_type": "code",
   "execution_count": 7,
   "metadata": {},
   "outputs": [
    {
     "data": {
      "text/plain": [
       "X:40, Y:70"
      ]
     },
     "execution_count": 7,
     "metadata": {},
     "output_type": "execute_result"
    }
   ],
   "source": [
    "v1 = Vector(10,20)\n",
    "v2 = Vector(30,50)\n",
    "v1+v2"
   ]
  },
  {
   "cell_type": "code",
   "execution_count": null,
   "metadata": {},
   "outputs": [],
   "source": []
  },
  {
   "cell_type": "code",
   "execution_count": null,
   "metadata": {},
   "outputs": [],
   "source": []
  }
 ],
 "metadata": {
  "kernelspec": {
   "display_name": "ocr3",
   "language": "python",
   "name": "python3"
  },
  "language_info": {
   "codemirror_mode": {
    "name": "ipython",
    "version": 3
   },
   "file_extension": ".py",
   "mimetype": "text/x-python",
   "name": "python",
   "nbconvert_exporter": "python",
   "pygments_lexer": "ipython3",
   "version": "3.8.5"
  }
 },
 "nbformat": 4,
 "nbformat_minor": 2
}
