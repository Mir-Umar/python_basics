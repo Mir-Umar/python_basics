{
 "cells": [
  {
   "cell_type": "markdown",
   "metadata": {},
   "source": [
    "## Generators in Python\n",
    "#### -> In Python, a generator is a special type of iterable, similar to lists, tuples, and dictionaries, but with a key difference: generators do not store their values in memory all at once. Instead, they generate values on the fly as you iterate over them. This makes generators memory-efficient and particularly useful when dealing with large datasets or when you want to generate values dynamically.\n",
    "\n",
    "#### -> Generators are created using functions with one or more ***yield*** statements. When a function contains a yield statement, it becomes a generator function. When you call a generator function, it returns a generator object, which can be used to iterate over the values it produces."
   ]
  },
  {
   "cell_type": "markdown",
   "metadata": {},
   "source": [
    "#### Key characteristics and advantages of generators in Python:\n",
    "\n",
    "- **Memory Efficiency**: Generators are memory-efficient because they don't store all values in memory simultaneously. They generate values as needed, which is especially useful for large datasets.\n",
    "\n",
    "- **Lazy Evaluation**: Values are generated on-the-fly as you iterate over the generator, allowing you to work with infinite sequences or streams of data.\n",
    "\n",
    "- **Simplicity**: Generator functions are often simpler to write and read compared to creating and managing custom iterable classes.\n",
    "\n",
    "- **Pause and Resume**: Generator functions can be paused and resumed, maintaining their internal state between iterations.\n",
    "\n",
    "- **Infinite Sequences**: Generators are suitable for creating infinite sequences, like the Fibonacci sequence or an infinite stream of data.\n",
    "\n",
    "- **Efficient Iteration**: They are efficient for one-time iteration. Once a value is generated and consumed, it's not stored in memory, reducing memory overhead.\n",
    "\n",
    "Python's built-in functions like range(), map(), and filter() also return generators in Python 3, enhancing performance and memory efficiency."
   ]
  },
  {
   "cell_type": "markdown",
   "metadata": {},
   "source": [
    "Generators are defined in a similar way as functions, only difference being that we use yield statement in place of return statement. Here is an example of how to define a generator in python:"
   ]
  },
  {
   "cell_type": "code",
   "execution_count": 3,
   "metadata": {},
   "outputs": [
    {
     "name": "stdout",
     "output_type": "stream",
     "text": [
      "<generator object simple_generator at 0x0000020AF967BC10>\n",
      "1\n",
      "2\n",
      "3\n"
     ]
    }
   ],
   "source": [
    "def simple_generator():\n",
    "    yield 1\n",
    "    yield 2\n",
    "    yield 3\n",
    "\n",
    "gen = simple_generator()\n",
    "print(gen)\n",
    "for value in gen:\n",
    "    print(value)\n"
   ]
  },
  {
   "cell_type": "code",
   "execution_count": 7,
   "metadata": {},
   "outputs": [
    {
     "data": {
      "text/plain": [
       "['__class__',\n",
       " '__del__',\n",
       " '__delattr__',\n",
       " '__dir__',\n",
       " '__doc__',\n",
       " '__eq__',\n",
       " '__format__',\n",
       " '__ge__',\n",
       " '__getattribute__',\n",
       " '__gt__',\n",
       " '__hash__',\n",
       " '__init__',\n",
       " '__init_subclass__',\n",
       " '__iter__',\n",
       " '__le__',\n",
       " '__lt__',\n",
       " '__name__',\n",
       " '__ne__',\n",
       " '__new__',\n",
       " '__next__',\n",
       " '__qualname__',\n",
       " '__reduce__',\n",
       " '__reduce_ex__',\n",
       " '__repr__',\n",
       " '__setattr__',\n",
       " '__sizeof__',\n",
       " '__str__',\n",
       " '__subclasshook__',\n",
       " 'close',\n",
       " 'gi_code',\n",
       " 'gi_frame',\n",
       " 'gi_running',\n",
       " 'gi_yieldfrom',\n",
       " 'send',\n",
       " 'throw']"
      ]
     },
     "execution_count": 7,
     "metadata": {},
     "output_type": "execute_result"
    }
   ],
   "source": [
    "dir(gen)\n",
    "# gen.close()"
   ]
  },
  {
   "cell_type": "markdown",
   "metadata": {},
   "source": [
    "Let's create a Python generator that iterates over a folder containing image files. We'll use the os module to list files in the folder and the Pillow (PIL) library to check if a file is an image. Here's a more complex example:"
   ]
  },
  {
   "cell_type": "code",
   "execution_count": 10,
   "metadata": {},
   "outputs": [
    {
     "name": "stdout",
     "output_type": "stream",
     "text": [
      "Processing: D:\\Projects\\Project-51\\CV\\Lit_dark\\dataset\\dark\\dark_0.jpg\n"
     ]
    }
   ],
   "source": [
    "import os\n",
    "from PIL import Image\n",
    "\n",
    "# Function to generate image files from a directory\n",
    "def image_file_generator(directory_path):\n",
    "    for filename in os.listdir(directory_path):\n",
    "        file_path = os.path.join(directory_path, filename)\n",
    "        if os.path.isfile(file_path):\n",
    "            try:\n",
    "                img = Image.open(file_path)\n",
    "                yield img, file_path  # Yield the image and its file path\n",
    "                img.close()  # Close the image to free up resources\n",
    "            except Exception as e:\n",
    "                print(f\"Error processing {file_path}: {str(e)}\")\n",
    "\n",
    "# Specify the directory path containing image files\n",
    "image_directory = \"/path/to/image_directory\"\n",
    "\n",
    "# Create a generator for image files\n",
    "image_generator = image_file_generator(image_directory)\n",
    "\n",
    "# Iterate over the images\n",
    "for img, file_path in image_generator:\n",
    "    print(f\"Processing: {file_path}\")\n",
    "    # Perform operations on the image (e.g., display, process, analyze)\n",
    "    img.show()  # Display the image (you can replace this with any desired processing)\n",
    "    break   # Display just one image\n"
   ]
  },
  {
   "cell_type": "markdown",
   "metadata": {},
   "source": [
    "In this example:\n",
    "\n",
    "- We define the image_file_generator function, which takes a directory path as input.\n",
    "\n",
    "- Inside the generator function, we use os.listdir() to list files in the specified directory.\n",
    "\n",
    "- For each file, we check if it's a valid image file by attempting to open it with Pillow (PIL). If successful, we yield the image object and its file path.\n",
    "\n",
    "- We also handle exceptions in case any files in the directory are not valid image files.\n",
    "\n",
    "- We specify the image_directory variable with the path to the folder containing image files.\n",
    "\n",
    "- We create a generator object image_generator using the image_file_generator function.\n",
    "\n",
    "- We iterate over the images using a for loop, processing each image as needed.\n",
    "\n",
    "- In this example, we've kept the processing simple by displaying each image using img.show(). You can replace this part with any specific processing or analysis you want to perform on the images.\n",
    "\n",
    "- This generator allows you to work with a large number of image files in a memory-efficient manner, as it loads and processes each image one at a time."
   ]
  },
  {
   "cell_type": "markdown",
   "metadata": {},
   "source": [
    "**NOTE**: In Python, the ___next___() method is used to manually iterate over the elements of an iterator or a generator. It allows you to retrieve the next item in the sequence produced by the generator."
   ]
  },
  {
   "cell_type": "code",
   "execution_count": null,
   "metadata": {},
   "outputs": [],
   "source": []
  },
  {
   "cell_type": "code",
   "execution_count": null,
   "metadata": {},
   "outputs": [],
   "source": []
  },
  {
   "cell_type": "code",
   "execution_count": null,
   "metadata": {},
   "outputs": [],
   "source": []
  }
 ],
 "metadata": {
  "kernelspec": {
   "display_name": "Python 3",
   "language": "python",
   "name": "python3"
  },
  "language_info": {
   "codemirror_mode": {
    "name": "ipython",
    "version": 3
   },
   "file_extension": ".py",
   "mimetype": "text/x-python",
   "name": "python",
   "nbconvert_exporter": "python",
   "pygments_lexer": "ipython3",
   "version": "3.8.16"
  },
  "orig_nbformat": 4
 },
 "nbformat": 4,
 "nbformat_minor": 2
}
